{
  "cells": [
    {
      "cell_type": "code",
      "execution_count": null,
      "metadata": {},
      "outputs": [],
      "source": [
        "import os\n",
        "import json\n",
        "import regex\n",
        "import random\n",
        "from pathlib import Path\n",
        "from statistics import mean\n",
        "from huggingface_hub import InferenceClient"
      ]
    },
    {
      "cell_type": "markdown",
      "metadata": {},
      "source": [
        "### CONFIG"
      ]
    },
    {
      "cell_type": "code",
      "execution_count": null,
      "metadata": {},
      "outputs": [],
      "source": [
        "CONFIG_PATH = Path(\"Config/huggingface.json\")\n",
        "PROMPT_REASON_PATH = Path(\"Prompt/Reasoning.txt\")\n",
        "PROMPT_CRITIC_PATH = Path(\"Prompt/Critical.txt\")\n",
        "TESTDATA_PATH = Path(\"Data/TestData.json\")\n",
        "\n",
        "with open(CONFIG_PATH, \"r\", encoding=\"utf-8\") as f:\n",
        "    config = json.load(f)\n",
        "\n",
        "HF_TOKEN = config.get(\"HF_TOKEN\")\n",
        "REASON_MODEL = config.get(\"REASON_MODEL\")\n",
        "CRITICAL_MODEL = config.get(\"CRITICAL_MODEL\")\n",
        "\n",
        "os.environ[\"HF_TOKEN\"] = HF_TOKEN\n",
        "reason_client = InferenceClient(api_key=HF_TOKEN)\n",
        "critic_client = InferenceClient(api_key=HF_TOKEN)"
      ]
    },
    {
      "cell_type": "markdown",
      "metadata": {},
      "source": [
        "### PROMPT"
      ]
    },
    {
      "cell_type": "code",
      "execution_count": null,
      "metadata": {},
      "outputs": [],
      "source": [
        "PROMPT_REASON_BASE = \"\"\"\n",
        "    Bạn là hệ thống tóm tắt văn bản thông minh.\n",
        "    Hãy tạo bản tóm tắt chính xác, ngắn gọn, mạch lạc và có thể giải thích.\n",
        "    1. Phân tích nội dung chính, thực thể, hành động.\n",
        "    2. Lọc ý quan trọng.\n",
        "    3. Viết tóm tắt ≤ 100 từ.\n",
        "\n",
        "    Đầu ra:\n",
        "    [Reasoning trace]: Chủ đề, Các ý chính, Các ý loại bỏ.\n",
        "    [Văn bản tóm tắt]: đoạn tóm tắt cuối cùng.\n",
        "\n",
        "    Văn bản gốc:\n",
        "    {input_text}\n",
        "    \"\"\"\n",
        "\n",
        "PROMPT_CRITIC_BASE = \"\"\"\n",
        "    Bạn là chuyên gia đánh giá reasoning.\n",
        "    Hãy đọc kỹ văn bản gốc và reasoning, sau đó đánh giá theo 6 tiêu chí.\n",
        "    Trả về JSON:\n",
        "    {\n",
        "    \"factuality\": <1–5>,\n",
        "    \"clarity\": <1–5>,\n",
        "    \"logical_coherence\": <1–5>,\n",
        "    \"coverage\": <1–5>,\n",
        "    \"utility\": <1–5>,\n",
        "    \"consistency\": <1–5>,\n",
        "    \"nhan_xet_chung\": \"...\",\n",
        "    \"goi_y_chinh_sua\": \"...\"\n",
        "    }\n",
        "    \"\"\""
      ]
    },
    {
      "cell_type": "code",
      "execution_count": null,
      "metadata": {},
      "outputs": [],
      "source": [
        "def load_prompt(path: Path, default_text: str) -> str:\n",
        "    if path.exists():\n",
        "        with open(path, \"r\", encoding=\"utf-8\") as f:\n",
        "            return f.read().strip()\n",
        "    else:\n",
        "        print(\"DEFAUT !!\")\n",
        "        return default_text\n",
        "    \n",
        "REASON_PROMPT = load_prompt(\n",
        "    PROMPT_REASON_PATH,\n",
        "    PROMPT_REASON_BASE,\n",
        ")\n",
        "\n",
        "CRITIC_PROMPT = load_prompt(\n",
        "    PROMPT_CRITIC_PATH,\n",
        "    PROMPT_CRITIC_BASE,\n",
        ")"
      ]
    },
    {
      "cell_type": "markdown",
      "metadata": {},
      "source": [
        "### HELPERS"
      ]
    },
    {
      "cell_type": "code",
      "execution_count": null,
      "metadata": {},
      "outputs": [],
      "source": [
        "def jsonParse(text: str):\n",
        "    text = text.strip()\n",
        "    try:\n",
        "        return json.loads(text)\n",
        "    except Exception:\n",
        "        match = regex.search(r\"\\{(?:[^{}]|(?R))*\\}\", text, flags=regex.DOTALL)\n",
        "        if match:\n",
        "            json_str = match.group(0)\n",
        "            try:\n",
        "                return json.loads(json_str)\n",
        "            except json.JSONDecodeError:\n",
        "                pass\n",
        "        raise ValueError(f\"❌ Không parse được JSON từ phản hồi:\\n{text[:400]}...\")"
      ]
    },
    {
      "cell_type": "code",
      "execution_count": null,
      "metadata": {},
      "outputs": [],
      "source": [
        "def randomContent() -> str:\n",
        "    if not TESTDATA_PATH.exists():\n",
        "        raise FileNotFoundError(\"❌ Thiếu file Data/TestData.json\")\n",
        "    with open(TESTDATA_PATH, \"r\", encoding=\"utf-8\") as f:\n",
        "        data = json.load(f)\n",
        "    items = [x for x in data if \"content\" in x]\n",
        "    if not items:\n",
        "        raise ValueError(\"❌ Không tìm thấy trường 'content' trong TestData.json\")\n",
        "    sample = random.choice(items)\n",
        "    print(f\"📘 Chọn ngẫu nhiên mục: {sample.get('title', 'Không tiêu đề')}\")\n",
        "    return sample[\"content\"]"
      ]
    },
    {
      "cell_type": "code",
      "execution_count": null,
      "metadata": {},
      "outputs": [],
      "source": [
        "def averageScore(critical_output: dict) -> float:\n",
        "    keys = [\"factuality\", \"clarity\", \"logical_coherence\", \"coverage\", \"utility\", \"consistency\"]\n",
        "    vals = [critical_output[k] for k in keys if isinstance(critical_output.get(k), (int, float))]\n",
        "    return mean(vals) if vals else 0.0"
      ]
    },
    {
      "cell_type": "markdown",
      "metadata": {},
      "source": [
        "### REASONING"
      ]
    },
    {
      "cell_type": "code",
      "execution_count": null,
      "metadata": {},
      "outputs": [],
      "source": [
        "def reasoningRun(text: str) -> str:\n",
        "    prompt = REASON_PROMPT.format(input_text=text)\n",
        "    completion = reason_client.text_generation(\n",
        "        model=REASON_MODEL,\n",
        "        prompt=prompt,\n",
        "        max_new_tokens=1024,\n",
        "        temperature=0.3,\n",
        "        top_p=0.9,\n",
        "        details=True,\n",
        "    )\n",
        "\n",
        "    if isinstance(completion, dict) and \"generated_text\" in completion:\n",
        "        return completion[\"generated_text\"].strip()\n",
        "    elif isinstance(completion, list):\n",
        "        return \"\\n\".join([c.get(\"generated_text\", \"\") for c in completion]).strip()\n",
        "    else:\n",
        "        return str(completion).strip()"
      ]
    },
    {
      "cell_type": "markdown",
      "metadata": {},
      "source": [
        "### CRITICAL"
      ]
    },
    {
      "cell_type": "code",
      "execution_count": null,
      "metadata": {},
      "outputs": [],
      "source": [
        "\n",
        "def criticalRun(source_text: str, reasoning_output: str) -> dict:\n",
        "    prompt = (\n",
        "        f\"{CRITIC_PROMPT}\\n\\n\"\n",
        "        f\"[Văn bản gốc]\\n{source_text}\\n\\n\"\n",
        "        f\"[Reasoning + Summary]\\n{reasoning_output}\\n\\n\"\n",
        "        \"Chỉ trả JSON duy nhất.\"\n",
        "    )\n",
        "\n",
        "    completion = critic_client.text_generation(\n",
        "        model=CRITICAL_MODEL,\n",
        "        prompt=prompt,\n",
        "        max_new_tokens=1024,\n",
        "        temperature=0.2,\n",
        "        top_p=0.9,\n",
        "        details=True,\n",
        "    )\n",
        "\n",
        "    # Lấy toàn bộ output từ mô hình\n",
        "    if isinstance(completion, dict) and \"generated_text\" in completion:\n",
        "        raw_output = completion[\"generated_text\"]\n",
        "    elif isinstance(completion, list):\n",
        "        raw_output = \"\\n\".join([c.get(\"generated_text\", \"\") for c in completion])\n",
        "    else:\n",
        "        raw_output = str(completion)\n",
        "\n",
        "    return jsonParse(raw_output)"
      ]
    },
    {
      "cell_type": "markdown",
      "metadata": {},
      "source": [
        "### MAIN FLOW"
      ]
    },
    {
      "cell_type": "code",
      "execution_count": null,
      "metadata": {},
      "outputs": [],
      "source": [
        "def mainFlow(source_text: str, max_iters=3, min_improve=0.05):\n",
        "    best_reason, best_score = None, 0\n",
        "    history = []\n",
        "\n",
        "    for step in range(1, max_iters + 1):\n",
        "        print(f\"\\n🔄 Vòng {step} ...\")\n",
        "        reasoning_output = reasoningRun(source_text)\n",
        "        critical_output = criticalRun(source_text, reasoning_output)\n",
        "        average_score = averageScore(critical_output)\n",
        "\n",
        "        print(f\"📊 Điểm TBC: {average_score:.2f}\")\n",
        "        print(f\"📝 Nhận xét: {critical_output}\\n\")\n",
        "\n",
        "        history.append({\"round\": step, \"score\": average_score, \"reasoning\": reasoning_output, \"evaluation\": critical_output})\n",
        "        if average_score > best_score + min_improve:\n",
        "            best_reason, best_score = reasoning_output, average_score\n",
        "        else:\n",
        "            print(\"⛔ Không cải thiện đáng kể, dừng.\")\n",
        "            break\n",
        "\n",
        "    return {\"best_reasoning\": best_reason, \"best_score\": best_score, \"history\": history}"
      ]
    },
    {
      "cell_type": "markdown",
      "metadata": {},
      "source": [
        "### RUN"
      ]
    },
    {
      "cell_type": "code",
      "execution_count": null,
      "metadata": {},
      "outputs": [],
      "source": [
        "if __name__ == \"__main__\":\n",
        "    inputPara = randomContent()\n",
        "    result = mainFlow(inputPara)\n",
        "\n",
        "    print(\"\\n🎯 Kết quả cuối cùng:\")\n",
        "    print(json.dumps({\n",
        "        \"best_score\": result[\"best_score\"],\n",
        "        \"best_reasoning\": result[\"best_reasoning\"][:400] if result[\"best_reasoning\"] else None\n",
        "    }, ensure_ascii=False, indent=2))\n"
      ]
    }
  ],
  "metadata": {
    "accelerator": "GPU",
    "colab": {
      "gpuType": "T4",
      "provenance": []
    },
    "kaggle": {
      "accelerator": "gpu"
    },
    "kernelspec": {
      "display_name": "master",
      "language": "python",
      "name": "python3"
    },
    "language_info": {
      "codemirror_mode": {
        "name": "ipython",
        "version": 3
      },
      "file_extension": ".py",
      "mimetype": "text/x-python",
      "name": "python",
      "nbconvert_exporter": "python",
      "pygments_lexer": "ipython3",
      "version": "3.11.13"
    }
  },
  "nbformat": 4,
  "nbformat_minor": 0
}
